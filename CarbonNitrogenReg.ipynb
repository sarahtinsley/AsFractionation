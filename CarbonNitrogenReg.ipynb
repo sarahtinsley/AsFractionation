{
 "cells": [
  {
   "cell_type": "code",
   "execution_count": 1,
   "id": "41e81eaa-b134-4718-80c3-d50c9e4ec436",
   "metadata": {},
   "outputs": [],
   "source": [
    "#import packages\n",
    "\n",
    "import numpy as np\n",
    "from matplotlib import pyplot as plt\n",
    "import pandas as pd\n",
    "import xarray as xr\n",
    "from scipy.io import loadmat\n",
    "from matplotlib.patches import Rectangle\n",
    "import matplotlib.pyplot as plt\n",
    "import matplotlib.colors as mcolors\n",
    "import statistics as stats\n",
    "from matplotlib.patches import Ellipse, Polygon"
   ]
  },
  {
   "cell_type": "code",
   "execution_count": null,
   "id": "177d6da2-541f-4446-9ecd-fa5587ea9a65",
   "metadata": {},
   "outputs": [],
   "source": [
    "#read data \n",
    "\n"
   ]
  }
 ],
 "metadata": {
  "kernelspec": {
   "display_name": "Python 3 (ipykernel)",
   "language": "python",
   "name": "python3"
  },
  "language_info": {
   "codemirror_mode": {
    "name": "ipython",
    "version": 3
   },
   "file_extension": ".py",
   "mimetype": "text/x-python",
   "name": "python",
   "nbconvert_exporter": "python",
   "pygments_lexer": "ipython3",
   "version": "3.10.4"
  }
 },
 "nbformat": 4,
 "nbformat_minor": 5
}
